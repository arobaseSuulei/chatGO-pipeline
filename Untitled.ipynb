{
 "cells": [
  {
   "cell_type": "code",
   "execution_count": 64,
   "id": "f319f4a5-7b87-4a81-9760-49723182f2e4",
   "metadata": {},
   "outputs": [],
   "source": [
    "import pandas as pd\n",
    "from sqlalchemy import create_engine\n",
    "import psycopg2"
   ]
  },
  {
   "cell_type": "code",
   "execution_count": 2,
   "id": "13693d5b-33c9-4845-ae2b-f65ddf1c6752",
   "metadata": {},
   "outputs": [],
   "source": [
    "df=pd.read_csv('chatInfo_rows.csv')"
   ]
  },
  {
   "cell_type": "code",
   "execution_count": 3,
   "id": "776bac3d-4775-4094-bae3-188231f80c21",
   "metadata": {},
   "outputs": [
    {
     "data": {
      "text/html": [
       "<div>\n",
       "<style scoped>\n",
       "    .dataframe tbody tr th:only-of-type {\n",
       "        vertical-align: middle;\n",
       "    }\n",
       "\n",
       "    .dataframe tbody tr th {\n",
       "        vertical-align: top;\n",
       "    }\n",
       "\n",
       "    .dataframe thead th {\n",
       "        text-align: right;\n",
       "    }\n",
       "</style>\n",
       "<table border=\"1\" class=\"dataframe\">\n",
       "  <thead>\n",
       "    <tr style=\"text-align: right;\">\n",
       "      <th></th>\n",
       "      <th>id</th>\n",
       "      <th>created_at</th>\n",
       "      <th>name</th>\n",
       "      <th>content</th>\n",
       "      <th>time</th>\n",
       "    </tr>\n",
       "  </thead>\n",
       "  <tbody>\n",
       "    <tr>\n",
       "      <th>0</th>\n",
       "      <td>1</td>\n",
       "      <td>2024-11-02 13:48:55.289025+00</td>\n",
       "      <td>PEANUT</td>\n",
       "      <td>Bonjour, premier message</td>\n",
       "      <td>13:16:44.321092</td>\n",
       "    </tr>\n",
       "    <tr>\n",
       "      <th>1</th>\n",
       "      <td>71</td>\n",
       "      <td>2024-11-16 22:19:00.679082+00</td>\n",
       "      <td>Okarun</td>\n",
       "      <td>Hey</td>\n",
       "      <td>22:19:00.679082</td>\n",
       "    </tr>\n",
       "    <tr>\n",
       "      <th>2</th>\n",
       "      <td>73</td>\n",
       "      <td>2024-11-16 22:24:39.5685+00</td>\n",
       "      <td>Chihiro</td>\n",
       "      <td>Heyoooooo</td>\n",
       "      <td>22:24:39.5685</td>\n",
       "    </tr>\n",
       "    <tr>\n",
       "      <th>3</th>\n",
       "      <td>76</td>\n",
       "      <td>2024-11-16 22:27:59.056803+00</td>\n",
       "      <td>JK</td>\n",
       "      <td>Hello</td>\n",
       "      <td>22:27:59.056803</td>\n",
       "    </tr>\n",
       "    <tr>\n",
       "      <th>4</th>\n",
       "      <td>77</td>\n",
       "      <td>2024-11-16 22:42:53.231892+00</td>\n",
       "      <td>Okarun</td>\n",
       "      <td>Hellooo</td>\n",
       "      <td>22:42:53.231892</td>\n",
       "    </tr>\n",
       "  </tbody>\n",
       "</table>\n",
       "</div>"
      ],
      "text/plain": [
       "   id                     created_at     name                   content  \\\n",
       "0   1  2024-11-02 13:48:55.289025+00   PEANUT  Bonjour, premier message   \n",
       "1  71  2024-11-16 22:19:00.679082+00   Okarun                       Hey   \n",
       "2  73    2024-11-16 22:24:39.5685+00  Chihiro                 Heyoooooo   \n",
       "3  76  2024-11-16 22:27:59.056803+00      JK                     Hello    \n",
       "4  77  2024-11-16 22:42:53.231892+00   Okarun                   Hellooo   \n",
       "\n",
       "              time  \n",
       "0  13:16:44.321092  \n",
       "1  22:19:00.679082  \n",
       "2    22:24:39.5685  \n",
       "3  22:27:59.056803  \n",
       "4  22:42:53.231892  "
      ]
     },
     "execution_count": 3,
     "metadata": {},
     "output_type": "execute_result"
    }
   ],
   "source": [
    "df.head()"
   ]
  },
  {
   "cell_type": "code",
   "execution_count": 30,
   "id": "44909fcc-18c8-4be6-845f-e5ea8d42b08f",
   "metadata": {},
   "outputs": [
    {
     "data": {
      "text/plain": [
       "np.int64(1)"
      ]
     },
     "execution_count": 30,
     "metadata": {},
     "output_type": "execute_result"
    }
   ],
   "source": [
    "((df['name'].str.strip().str.lower()=='jk')).sum()"
   ]
  },
  {
   "cell_type": "code",
   "execution_count": 41,
   "id": "b73bf742-0e4d-49a7-a85c-b1a840166fc0",
   "metadata": {},
   "outputs": [],
   "source": [
    "df['msg_per_users']=df['name'].map(df['name'].value_counts())"
   ]
  },
  {
   "cell_type": "code",
   "execution_count": 42,
   "id": "40093147-3323-4de6-9763-a5e131808adc",
   "metadata": {},
   "outputs": [
    {
     "data": {
      "text/html": [
       "<div>\n",
       "<style scoped>\n",
       "    .dataframe tbody tr th:only-of-type {\n",
       "        vertical-align: middle;\n",
       "    }\n",
       "\n",
       "    .dataframe tbody tr th {\n",
       "        vertical-align: top;\n",
       "    }\n",
       "\n",
       "    .dataframe thead th {\n",
       "        text-align: right;\n",
       "    }\n",
       "</style>\n",
       "<table border=\"1\" class=\"dataframe\">\n",
       "  <thead>\n",
       "    <tr style=\"text-align: right;\">\n",
       "      <th></th>\n",
       "      <th>id</th>\n",
       "      <th>created_at</th>\n",
       "      <th>name</th>\n",
       "      <th>content</th>\n",
       "      <th>time</th>\n",
       "      <th>msg_per_users</th>\n",
       "    </tr>\n",
       "  </thead>\n",
       "  <tbody>\n",
       "    <tr>\n",
       "      <th>0</th>\n",
       "      <td>1</td>\n",
       "      <td>2024-11-02 13:48:55.289025+00</td>\n",
       "      <td>PEANUT</td>\n",
       "      <td>Bonjour, premier message</td>\n",
       "      <td>13:16:44.321092</td>\n",
       "      <td>1</td>\n",
       "    </tr>\n",
       "    <tr>\n",
       "      <th>1</th>\n",
       "      <td>71</td>\n",
       "      <td>2024-11-16 22:19:00.679082+00</td>\n",
       "      <td>Okarun</td>\n",
       "      <td>Hey</td>\n",
       "      <td>22:19:00.679082</td>\n",
       "      <td>7</td>\n",
       "    </tr>\n",
       "    <tr>\n",
       "      <th>2</th>\n",
       "      <td>73</td>\n",
       "      <td>2024-11-16 22:24:39.5685+00</td>\n",
       "      <td>Chihiro</td>\n",
       "      <td>Heyoooooo</td>\n",
       "      <td>22:24:39.5685</td>\n",
       "      <td>1</td>\n",
       "    </tr>\n",
       "    <tr>\n",
       "      <th>3</th>\n",
       "      <td>76</td>\n",
       "      <td>2024-11-16 22:27:59.056803+00</td>\n",
       "      <td>JK</td>\n",
       "      <td>Hello</td>\n",
       "      <td>22:27:59.056803</td>\n",
       "      <td>1</td>\n",
       "    </tr>\n",
       "    <tr>\n",
       "      <th>4</th>\n",
       "      <td>77</td>\n",
       "      <td>2024-11-16 22:42:53.231892+00</td>\n",
       "      <td>Okarun</td>\n",
       "      <td>Hellooo</td>\n",
       "      <td>22:42:53.231892</td>\n",
       "      <td>7</td>\n",
       "    </tr>\n",
       "  </tbody>\n",
       "</table>\n",
       "</div>"
      ],
      "text/plain": [
       "   id                     created_at     name                   content  \\\n",
       "0   1  2024-11-02 13:48:55.289025+00   PEANUT  Bonjour, premier message   \n",
       "1  71  2024-11-16 22:19:00.679082+00   Okarun                       Hey   \n",
       "2  73    2024-11-16 22:24:39.5685+00  Chihiro                 Heyoooooo   \n",
       "3  76  2024-11-16 22:27:59.056803+00      JK                     Hello    \n",
       "4  77  2024-11-16 22:42:53.231892+00   Okarun                   Hellooo   \n",
       "\n",
       "              time  msg_per_users  \n",
       "0  13:16:44.321092              1  \n",
       "1  22:19:00.679082              7  \n",
       "2    22:24:39.5685              1  \n",
       "3  22:27:59.056803              1  \n",
       "4  22:42:53.231892              7  "
      ]
     },
     "execution_count": 42,
     "metadata": {},
     "output_type": "execute_result"
    }
   ],
   "source": [
    "df.head()"
   ]
  },
  {
   "cell_type": "code",
   "execution_count": 79,
   "id": "c816bfd0-fd90-40e0-b0d0-9bbef20dd7ff",
   "metadata": {},
   "outputs": [],
   "source": [
    "df_sorted = df.sort_values(by=\"msg_per_users\", ascending=False)"
   ]
  },
  {
   "cell_type": "code",
   "execution_count": 88,
   "id": "6ee9bbaf-8379-478d-897c-d63d9d58f0a8",
   "metadata": {},
   "outputs": [],
   "source": [
    "name_sorted=df_sorted[['name','msg_per_users']].drop_duplicates()"
   ]
  },
  {
   "cell_type": "code",
   "execution_count": 89,
   "id": "2e97a775-c091-486c-88bc-e5ce0c742e35",
   "metadata": {},
   "outputs": [
    {
     "data": {
      "text/html": [
       "<div>\n",
       "<style scoped>\n",
       "    .dataframe tbody tr th:only-of-type {\n",
       "        vertical-align: middle;\n",
       "    }\n",
       "\n",
       "    .dataframe tbody tr th {\n",
       "        vertical-align: top;\n",
       "    }\n",
       "\n",
       "    .dataframe thead th {\n",
       "        text-align: right;\n",
       "    }\n",
       "</style>\n",
       "<table border=\"1\" class=\"dataframe\">\n",
       "  <thead>\n",
       "    <tr style=\"text-align: right;\">\n",
       "      <th></th>\n",
       "      <th>name</th>\n",
       "      <th>msg_per_users</th>\n",
       "    </tr>\n",
       "  </thead>\n",
       "  <tbody>\n",
       "    <tr>\n",
       "      <th>1</th>\n",
       "      <td>Okarun</td>\n",
       "      <td>7</td>\n",
       "    </tr>\n",
       "    <tr>\n",
       "      <th>7</th>\n",
       "      <td>suley</td>\n",
       "      <td>5</td>\n",
       "    </tr>\n",
       "    <tr>\n",
       "      <th>27</th>\n",
       "      <td>Medh9</td>\n",
       "      <td>4</td>\n",
       "    </tr>\n",
       "    <tr>\n",
       "      <th>38</th>\n",
       "      <td>Hello</td>\n",
       "      <td>3</td>\n",
       "    </tr>\n",
       "    <tr>\n",
       "      <th>34</th>\n",
       "      <td>Suuu</td>\n",
       "      <td>2</td>\n",
       "    </tr>\n",
       "  </tbody>\n",
       "</table>\n",
       "</div>"
      ],
      "text/plain": [
       "      name  msg_per_users\n",
       "1   Okarun              7\n",
       "7    suley              5\n",
       "27   Medh9              4\n",
       "38   Hello              3\n",
       "34    Suuu              2"
      ]
     },
     "execution_count": 89,
     "metadata": {},
     "output_type": "execute_result"
    }
   ],
   "source": [
    "name_sorted.head()"
   ]
  },
  {
   "cell_type": "code",
   "execution_count": 65,
   "id": "fcc3b93f-622d-4d4b-b0fd-636f42f1b3c3",
   "metadata": {},
   "outputs": [],
   "source": [
    "conn = psycopg2.connect(\n",
    "    host=\"127.0.0.1\",\n",
    "    port=5432,\n",
    "    user=\"chatgouser\",\n",
    "    password=\"123\",\n",
    "    dbname=\"chatgo\"\n",
    ")"
   ]
  },
  {
   "cell_type": "code",
   "execution_count": 66,
   "id": "d2eba12d-2fa6-4e47-ab4c-8cd560f8bda1",
   "metadata": {},
   "outputs": [],
   "source": [
    "cur=conn.cursor()"
   ]
  },
  {
   "cell_type": "code",
   "execution_count": 69,
   "id": "8c7b1b27-e811-402f-8deb-0aff53c78136",
   "metadata": {},
   "outputs": [
    {
     "name": "stdout",
     "output_type": "stream",
     "text": [
      "(1, 'Alice', 'Salut le monde !', datetime.datetime(2025, 10, 2, 22, 59, 57, 495665))\n",
      "(2, 'moi', 'aurevoir !', datetime.datetime(2025, 10, 2, 23, 15, 41, 283571))\n"
     ]
    }
   ],
   "source": [
    "# Récupérer le contenu pour vérifier\n",
    "cur.execute(\"SELECT * FROM messages;\")\n",
    "rows = cur.fetchall()\n",
    "for row in rows:\n",
    "    print(row)"
   ]
  },
  {
   "cell_type": "code",
   "execution_count": 70,
   "id": "a81085fb-2992-4efc-b212-9de352a94149",
   "metadata": {},
   "outputs": [],
   "source": [
    "cur.execute(\"\"\"\n",
    "INSERT INTO messages (sender, content) VALUES (%s, %s)\n",
    "\"\"\", (\"moi\", \"aurevoir !\"))"
   ]
  },
  {
   "cell_type": "code",
   "execution_count": 72,
   "id": "212cdb21-48d1-4ec5-b0b0-d7ef34bdcb76",
   "metadata": {},
   "outputs": [],
   "source": [
    "conn.commit()"
   ]
  },
  {
   "cell_type": "code",
   "execution_count": 99,
   "id": "88361051-a318-4314-bafe-3e545acad007",
   "metadata": {},
   "outputs": [],
   "source": [
    "conn.rollback()  # Annule la transaction en échec"
   ]
  },
  {
   "cell_type": "code",
   "execution_count": 100,
   "id": "f0443fcf-52a3-4324-afb8-ace2479e5f75",
   "metadata": {},
   "outputs": [],
   "source": [
    "# Avec un DataFrame\n",
    "for index, row in name_sorted.iterrows():\n",
    "    cur.execute(\"\"\"\n",
    "    INSERT INTO messages (sender, content) VALUES (%s, %s)\n",
    "    \"\"\", (row['name'], row['msg_per_users']))"
   ]
  },
  {
   "cell_type": "code",
   "execution_count": 101,
   "id": "e777e7ad-6727-4447-bb47-8d978203efc7",
   "metadata": {},
   "outputs": [],
   "source": [
    "conn.commit()"
   ]
  },
  {
   "cell_type": "code",
   "execution_count": null,
   "id": "eb9ce3eb-20c8-432b-866b-16300de70490",
   "metadata": {},
   "outputs": [],
   "source": []
  }
 ],
 "metadata": {
  "kernelspec": {
   "display_name": "Python 3 (ipykernel)",
   "language": "python",
   "name": "python3"
  },
  "language_info": {
   "codemirror_mode": {
    "name": "ipython",
    "version": 3
   },
   "file_extension": ".py",
   "mimetype": "text/x-python",
   "name": "python",
   "nbconvert_exporter": "python",
   "pygments_lexer": "ipython3",
   "version": "3.11.1"
  }
 },
 "nbformat": 4,
 "nbformat_minor": 5
}
