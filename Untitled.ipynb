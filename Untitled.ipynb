{
 "cells": [
  {
   "cell_type": "code",
   "execution_count": 1,
   "id": "f319f4a5-7b87-4a81-9760-49723182f2e4",
   "metadata": {},
   "outputs": [],
   "source": [
    "import pandas as pd"
   ]
  },
  {
   "cell_type": "code",
   "execution_count": 2,
   "id": "13693d5b-33c9-4845-ae2b-f65ddf1c6752",
   "metadata": {},
   "outputs": [],
   "source": [
    "df=pd.read_csv('chatInfo_rows.csv')"
   ]
  },
  {
   "cell_type": "code",
   "execution_count": 3,
   "id": "776bac3d-4775-4094-bae3-188231f80c21",
   "metadata": {},
   "outputs": [
    {
     "data": {
      "text/html": [
       "<div>\n",
       "<style scoped>\n",
       "    .dataframe tbody tr th:only-of-type {\n",
       "        vertical-align: middle;\n",
       "    }\n",
       "\n",
       "    .dataframe tbody tr th {\n",
       "        vertical-align: top;\n",
       "    }\n",
       "\n",
       "    .dataframe thead th {\n",
       "        text-align: right;\n",
       "    }\n",
       "</style>\n",
       "<table border=\"1\" class=\"dataframe\">\n",
       "  <thead>\n",
       "    <tr style=\"text-align: right;\">\n",
       "      <th></th>\n",
       "      <th>id</th>\n",
       "      <th>created_at</th>\n",
       "      <th>name</th>\n",
       "      <th>content</th>\n",
       "      <th>time</th>\n",
       "    </tr>\n",
       "  </thead>\n",
       "  <tbody>\n",
       "    <tr>\n",
       "      <th>0</th>\n",
       "      <td>1</td>\n",
       "      <td>2024-11-02 13:48:55.289025+00</td>\n",
       "      <td>PEANUT</td>\n",
       "      <td>Bonjour, premier message</td>\n",
       "      <td>13:16:44.321092</td>\n",
       "    </tr>\n",
       "    <tr>\n",
       "      <th>1</th>\n",
       "      <td>71</td>\n",
       "      <td>2024-11-16 22:19:00.679082+00</td>\n",
       "      <td>Okarun</td>\n",
       "      <td>Hey</td>\n",
       "      <td>22:19:00.679082</td>\n",
       "    </tr>\n",
       "    <tr>\n",
       "      <th>2</th>\n",
       "      <td>73</td>\n",
       "      <td>2024-11-16 22:24:39.5685+00</td>\n",
       "      <td>Chihiro</td>\n",
       "      <td>Heyoooooo</td>\n",
       "      <td>22:24:39.5685</td>\n",
       "    </tr>\n",
       "    <tr>\n",
       "      <th>3</th>\n",
       "      <td>76</td>\n",
       "      <td>2024-11-16 22:27:59.056803+00</td>\n",
       "      <td>JK</td>\n",
       "      <td>Hello</td>\n",
       "      <td>22:27:59.056803</td>\n",
       "    </tr>\n",
       "    <tr>\n",
       "      <th>4</th>\n",
       "      <td>77</td>\n",
       "      <td>2024-11-16 22:42:53.231892+00</td>\n",
       "      <td>Okarun</td>\n",
       "      <td>Hellooo</td>\n",
       "      <td>22:42:53.231892</td>\n",
       "    </tr>\n",
       "  </tbody>\n",
       "</table>\n",
       "</div>"
      ],
      "text/plain": [
       "   id                     created_at     name                   content  \\\n",
       "0   1  2024-11-02 13:48:55.289025+00   PEANUT  Bonjour, premier message   \n",
       "1  71  2024-11-16 22:19:00.679082+00   Okarun                       Hey   \n",
       "2  73    2024-11-16 22:24:39.5685+00  Chihiro                 Heyoooooo   \n",
       "3  76  2024-11-16 22:27:59.056803+00      JK                     Hello    \n",
       "4  77  2024-11-16 22:42:53.231892+00   Okarun                   Hellooo   \n",
       "\n",
       "              time  \n",
       "0  13:16:44.321092  \n",
       "1  22:19:00.679082  \n",
       "2    22:24:39.5685  \n",
       "3  22:27:59.056803  \n",
       "4  22:42:53.231892  "
      ]
     },
     "execution_count": 3,
     "metadata": {},
     "output_type": "execute_result"
    }
   ],
   "source": [
    "df.head()"
   ]
  },
  {
   "cell_type": "code",
   "execution_count": 30,
   "id": "44909fcc-18c8-4be6-845f-e5ea8d42b08f",
   "metadata": {},
   "outputs": [
    {
     "data": {
      "text/plain": [
       "np.int64(1)"
      ]
     },
     "execution_count": 30,
     "metadata": {},
     "output_type": "execute_result"
    }
   ],
   "source": [
    "((df['name'].str.strip().str.lower()=='jk')).sum()"
   ]
  },
  {
   "cell_type": "code",
   "execution_count": 41,
   "id": "b73bf742-0e4d-49a7-a85c-b1a840166fc0",
   "metadata": {},
   "outputs": [],
   "source": [
    "df['msg_per_users']=df['name'].map(df['name'].value_counts())"
   ]
  },
  {
   "cell_type": "code",
   "execution_count": 42,
   "id": "40093147-3323-4de6-9763-a5e131808adc",
   "metadata": {},
   "outputs": [
    {
     "data": {
      "text/html": [
       "<div>\n",
       "<style scoped>\n",
       "    .dataframe tbody tr th:only-of-type {\n",
       "        vertical-align: middle;\n",
       "    }\n",
       "\n",
       "    .dataframe tbody tr th {\n",
       "        vertical-align: top;\n",
       "    }\n",
       "\n",
       "    .dataframe thead th {\n",
       "        text-align: right;\n",
       "    }\n",
       "</style>\n",
       "<table border=\"1\" class=\"dataframe\">\n",
       "  <thead>\n",
       "    <tr style=\"text-align: right;\">\n",
       "      <th></th>\n",
       "      <th>id</th>\n",
       "      <th>created_at</th>\n",
       "      <th>name</th>\n",
       "      <th>content</th>\n",
       "      <th>time</th>\n",
       "      <th>msg_per_users</th>\n",
       "    </tr>\n",
       "  </thead>\n",
       "  <tbody>\n",
       "    <tr>\n",
       "      <th>0</th>\n",
       "      <td>1</td>\n",
       "      <td>2024-11-02 13:48:55.289025+00</td>\n",
       "      <td>PEANUT</td>\n",
       "      <td>Bonjour, premier message</td>\n",
       "      <td>13:16:44.321092</td>\n",
       "      <td>1</td>\n",
       "    </tr>\n",
       "    <tr>\n",
       "      <th>1</th>\n",
       "      <td>71</td>\n",
       "      <td>2024-11-16 22:19:00.679082+00</td>\n",
       "      <td>Okarun</td>\n",
       "      <td>Hey</td>\n",
       "      <td>22:19:00.679082</td>\n",
       "      <td>7</td>\n",
       "    </tr>\n",
       "    <tr>\n",
       "      <th>2</th>\n",
       "      <td>73</td>\n",
       "      <td>2024-11-16 22:24:39.5685+00</td>\n",
       "      <td>Chihiro</td>\n",
       "      <td>Heyoooooo</td>\n",
       "      <td>22:24:39.5685</td>\n",
       "      <td>1</td>\n",
       "    </tr>\n",
       "    <tr>\n",
       "      <th>3</th>\n",
       "      <td>76</td>\n",
       "      <td>2024-11-16 22:27:59.056803+00</td>\n",
       "      <td>JK</td>\n",
       "      <td>Hello</td>\n",
       "      <td>22:27:59.056803</td>\n",
       "      <td>1</td>\n",
       "    </tr>\n",
       "    <tr>\n",
       "      <th>4</th>\n",
       "      <td>77</td>\n",
       "      <td>2024-11-16 22:42:53.231892+00</td>\n",
       "      <td>Okarun</td>\n",
       "      <td>Hellooo</td>\n",
       "      <td>22:42:53.231892</td>\n",
       "      <td>7</td>\n",
       "    </tr>\n",
       "  </tbody>\n",
       "</table>\n",
       "</div>"
      ],
      "text/plain": [
       "   id                     created_at     name                   content  \\\n",
       "0   1  2024-11-02 13:48:55.289025+00   PEANUT  Bonjour, premier message   \n",
       "1  71  2024-11-16 22:19:00.679082+00   Okarun                       Hey   \n",
       "2  73    2024-11-16 22:24:39.5685+00  Chihiro                 Heyoooooo   \n",
       "3  76  2024-11-16 22:27:59.056803+00      JK                     Hello    \n",
       "4  77  2024-11-16 22:42:53.231892+00   Okarun                   Hellooo   \n",
       "\n",
       "              time  msg_per_users  \n",
       "0  13:16:44.321092              1  \n",
       "1  22:19:00.679082              7  \n",
       "2    22:24:39.5685              1  \n",
       "3  22:27:59.056803              1  \n",
       "4  22:42:53.231892              7  "
      ]
     },
     "execution_count": 42,
     "metadata": {},
     "output_type": "execute_result"
    }
   ],
   "source": [
    "df.head()"
   ]
  },
  {
   "cell_type": "code",
   "execution_count": null,
   "id": "c2dbe371-b788-43fa-b906-09dd597e0b39",
   "metadata": {},
   "outputs": [],
   "source": []
  }
 ],
 "metadata": {
  "kernelspec": {
   "display_name": "Python 3 (ipykernel)",
   "language": "python",
   "name": "python3"
  },
  "language_info": {
   "codemirror_mode": {
    "name": "ipython",
    "version": 3
   },
   "file_extension": ".py",
   "mimetype": "text/x-python",
   "name": "python",
   "nbconvert_exporter": "python",
   "pygments_lexer": "ipython3",
   "version": "3.11.1"
  }
 },
 "nbformat": 4,
 "nbformat_minor": 5
}
